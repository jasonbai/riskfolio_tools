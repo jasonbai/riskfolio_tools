{
 "cells": [
  {
   "cell_type": "markdown",
   "id": "290d9d23",
   "metadata": {},
   "source": [
    "# 取数和运算函数相分离测试"
   ]
  },
  {
   "cell_type": "code",
   "execution_count": 12,
   "id": "bdc972ed",
   "metadata": {},
   "outputs": [
    {
     "name": "stderr",
     "output_type": "stream",
     "text": [
      "C:\\Users\\jason\\anaconda3\\envs\\riskfolio\\lib\\site-packages\\akshare\\__init__.py:2747: UserWarning: 为了支持更多特性，请将 Python 升级到 3.9.0 及以上版本！\n",
      "  warnings.warn(\n"
     ]
    }
   ],
   "source": [
    "import pandas as pd\n",
    "import numpy as np\n",
    "import akshare as ak\n",
    "import os"
   ]
  },
  {
   "cell_type": "code",
   "execution_count": 9,
   "id": "719ac710",
   "metadata": {},
   "outputs": [],
   "source": [
    "# 获取基金基本信息函数并储存到本地\n",
    "def get_fund_basic_info(sw_index_list, filename):\n",
    "    # 确保data目录存在\n",
    "    data_dir = 'data'\n",
    "    if not os.path.exists(data_dir):\n",
    "        os.makedirs(data_dir)\n",
    "    \n",
    "    # 构建完整的文件路径\n",
    "    file_path = os.path.join(data_dir, filename)\n",
    "    \n",
    "    fund_df = pd.DataFrame()\n",
    "    i = 0\n",
    "    for code in sw_index_list:\n",
    "        bars = ak.fund_individual_basic_info_xq(symbol=code)\n",
    "        bars.index = bars['item']\n",
    "        fund_df[code] = bars['value']\n",
    "        i += 1\n",
    "        print(f\"\\r已获取[{i}/{len(sw_index_list)}]支基金的数据\", end=\"\")\n",
    "    fund_df.columns = sw_index_list\n",
    "    \n",
    "    # 将数据存储到CSV文件\n",
    "    fund_df.to_csv(file_path)\n",
    "    print(f\"\\n数据已存储到 {file_path}\")"
   ]
  },
  {
   "cell_type": "code",
   "execution_count": 14,
   "id": "066e20f8",
   "metadata": {},
   "outputs": [],
   "source": [
    "# 筛选符合年限的基金\n",
    "def filter_funds_by_years(filename, year):\n",
    "    # 构建完整的文件路径\n",
    "    file_path = os.path.join('data', filename)\n",
    "    \n",
    "    # 从CSV文件中读取数据\n",
    "    fund_df = pd.read_csv(file_path, index_col=0)\n",
    "    \n",
    "    # 获取某一年之前的基金列表\n",
    "    fund_df_filtered = fund_df.loc['成立时间']\n",
    "    # 将Series转换为DataFrame\n",
    "    df = fund_df_filtered.reset_index()\n",
    "    df.columns = ['index', 'date']\n",
    "    # 将日期字符串转换为datetime对象\n",
    "    df['date'] = pd.to_datetime(df['date'])\n",
    "    df_before_data = df[df['date'].dt.year < year]\n",
    "\n",
    "    # 输出最后的列表\n",
    "    index_list = df_before_data['index'].tolist()\n",
    "    return index_list"
   ]
  },
  {
   "cell_type": "code",
   "execution_count": 17,
   "id": "f246efa6",
   "metadata": {},
   "outputs": [],
   "source": [
    "# 获取数据并存储到本地\n",
    "def save_fund_price_to_local(index_list):\n",
    "    for code in index_list:\n",
    "        bars = ak.fund_open_fund_info_em(symbol=code, indicator=\"累计净值走势\")\n",
    "        bars['净值日期'] = pd.to_datetime(bars['净值日期']).dt.strftime('%Y-%m-%d')\n",
    "        bars.index = pd.to_datetime(bars['净值日期'])\n",
    "        bars.to_csv(os.path.join('data', f'{code}.csv'))\n",
    "        print(f\"已保存基金{code}的数据到本地\")"
   ]
  },
  {
   "cell_type": "code",
   "execution_count": 19,
   "id": "2ef44a44",
   "metadata": {},
   "outputs": [],
   "source": [
    "# 从本地读取数据并合并\n",
    "def read_and_merge_fund_price(index_list):\n",
    "    price_df = pd.DataFrame()\n",
    "\n",
    "    for code in index_list:\n",
    "        file_path = os.path.join('data', f'{code}.csv')\n",
    "        if os.path.exists(file_path):\n",
    "            bars = pd.read_csv(file_path, index_col=0)\n",
    "            price_df[code] = bars['累计净值']\n",
    "        else:\n",
    "            print(f\"找不到基金{code}的本地数据\")\n",
    "\n",
    "    price_df.columns = index_list\n",
    "    return price_df"
   ]
  },
  {
   "cell_type": "code",
   "execution_count": 10,
   "id": "c50c9f26",
   "metadata": {},
   "outputs": [],
   "source": [
    "sw_index_list = ['040046',\n",
    "                     '007380',\n",
    "                     '015016',\n",
    "                     '013308',\n",
    "                     ]"
   ]
  },
  {
   "cell_type": "code",
   "execution_count": 13,
   "id": "bda58450",
   "metadata": {},
   "outputs": [
    {
     "name": "stdout",
     "output_type": "stream",
     "text": [
      "已获取[4/4]支基金的数据\n",
      "数据已存储到 data\\fund_data.csv\n"
     ]
    }
   ],
   "source": [
    "# 从接口获取数据并存储到CSV文件\n",
    "store_fund_data_to_csv(sw_index_list, 'fund_data.csv')"
   ]
  },
  {
   "cell_type": "code",
   "execution_count": 15,
   "id": "256f64d6",
   "metadata": {},
   "outputs": [],
   "source": [
    "year = 2024\n",
    "index_list = read_fund_data_from_csv('fund_data.csv', year)"
   ]
  },
  {
   "cell_type": "code",
   "execution_count": 16,
   "id": "a69b2d7e",
   "metadata": {},
   "outputs": [
    {
     "data": {
      "text/plain": [
       "['040046', '007380', '015016', '013308']"
      ]
     },
     "execution_count": 16,
     "metadata": {},
     "output_type": "execute_result"
    }
   ],
   "source": [
    "index_list"
   ]
  },
  {
   "cell_type": "code",
   "execution_count": 18,
   "id": "8cb71f7f",
   "metadata": {},
   "outputs": [
    {
     "name": "stdout",
     "output_type": "stream",
     "text": [
      "已保存基金040046的数据到本地\n",
      "已保存基金007380的数据到本地\n",
      "已保存基金015016的数据到本地\n",
      "已保存基金013308的数据到本地\n"
     ]
    }
   ],
   "source": [
    "save_fund_price_to_local(index_list)"
   ]
  },
  {
   "cell_type": "code",
   "execution_count": 20,
   "id": "5e4a5a49",
   "metadata": {},
   "outputs": [],
   "source": [
    "price_df = read_and_merge_fund_price(index_list)"
   ]
  },
  {
   "cell_type": "code",
   "execution_count": 22,
   "id": "fbcd2330",
   "metadata": {},
   "outputs": [
    {
     "data": {
      "text/html": [
       "<div>\n",
       "<style scoped>\n",
       "    .dataframe tbody tr th:only-of-type {\n",
       "        vertical-align: middle;\n",
       "    }\n",
       "\n",
       "    .dataframe tbody tr th {\n",
       "        vertical-align: top;\n",
       "    }\n",
       "\n",
       "    .dataframe thead th {\n",
       "        text-align: right;\n",
       "    }\n",
       "</style>\n",
       "<table border=\"1\" class=\"dataframe\">\n",
       "  <thead>\n",
       "    <tr style=\"text-align: right;\">\n",
       "      <th></th>\n",
       "      <th>040046</th>\n",
       "      <th>007380</th>\n",
       "      <th>015016</th>\n",
       "      <th>013308</th>\n",
       "    </tr>\n",
       "    <tr>\n",
       "      <th>净值日期</th>\n",
       "      <th></th>\n",
       "      <th></th>\n",
       "      <th></th>\n",
       "      <th></th>\n",
       "    </tr>\n",
       "  </thead>\n",
       "  <tbody>\n",
       "    <tr>\n",
       "      <th>2013-08-02</th>\n",
       "      <td>1.000</td>\n",
       "      <td>NaN</td>\n",
       "      <td>NaN</td>\n",
       "      <td>NaN</td>\n",
       "    </tr>\n",
       "    <tr>\n",
       "      <th>2013-08-09</th>\n",
       "      <td>1.001</td>\n",
       "      <td>NaN</td>\n",
       "      <td>NaN</td>\n",
       "      <td>NaN</td>\n",
       "    </tr>\n",
       "    <tr>\n",
       "      <th>2013-08-16</th>\n",
       "      <td>1.001</td>\n",
       "      <td>NaN</td>\n",
       "      <td>NaN</td>\n",
       "      <td>NaN</td>\n",
       "    </tr>\n",
       "    <tr>\n",
       "      <th>2013-08-23</th>\n",
       "      <td>1.002</td>\n",
       "      <td>NaN</td>\n",
       "      <td>NaN</td>\n",
       "      <td>NaN</td>\n",
       "    </tr>\n",
       "    <tr>\n",
       "      <th>2013-08-26</th>\n",
       "      <td>1.002</td>\n",
       "      <td>NaN</td>\n",
       "      <td>NaN</td>\n",
       "      <td>NaN</td>\n",
       "    </tr>\n",
       "    <tr>\n",
       "      <th>...</th>\n",
       "      <td>...</td>\n",
       "      <td>...</td>\n",
       "      <td>...</td>\n",
       "      <td>...</td>\n",
       "    </tr>\n",
       "    <tr>\n",
       "      <th>2024-03-25</th>\n",
       "      <td>5.639</td>\n",
       "      <td>1.0349</td>\n",
       "      <td>1.514</td>\n",
       "      <td>0.8767</td>\n",
       "    </tr>\n",
       "    <tr>\n",
       "      <th>2024-03-26</th>\n",
       "      <td>5.615</td>\n",
       "      <td>1.0398</td>\n",
       "      <td>1.525</td>\n",
       "      <td>0.8845</td>\n",
       "    </tr>\n",
       "    <tr>\n",
       "      <th>2024-03-27</th>\n",
       "      <td>5.635</td>\n",
       "      <td>1.0335</td>\n",
       "      <td>1.531</td>\n",
       "      <td>0.8653</td>\n",
       "    </tr>\n",
       "    <tr>\n",
       "      <th>2024-03-28</th>\n",
       "      <td>5.627</td>\n",
       "      <td>1.0349</td>\n",
       "      <td>1.529</td>\n",
       "      <td>0.8854</td>\n",
       "    </tr>\n",
       "    <tr>\n",
       "      <th>2024-03-29</th>\n",
       "      <td>5.627</td>\n",
       "      <td>1.0402</td>\n",
       "      <td>1.524</td>\n",
       "      <td>0.8852</td>\n",
       "    </tr>\n",
       "  </tbody>\n",
       "</table>\n",
       "<p>2588 rows × 4 columns</p>\n",
       "</div>"
      ],
      "text/plain": [
       "            040046  007380  015016  013308\n",
       "净值日期                                      \n",
       "2013-08-02   1.000     NaN     NaN     NaN\n",
       "2013-08-09   1.001     NaN     NaN     NaN\n",
       "2013-08-16   1.001     NaN     NaN     NaN\n",
       "2013-08-23   1.002     NaN     NaN     NaN\n",
       "2013-08-26   1.002     NaN     NaN     NaN\n",
       "...            ...     ...     ...     ...\n",
       "2024-03-25   5.639  1.0349   1.514  0.8767\n",
       "2024-03-26   5.615  1.0398   1.525  0.8845\n",
       "2024-03-27   5.635  1.0335   1.531  0.8653\n",
       "2024-03-28   5.627  1.0349   1.529  0.8854\n",
       "2024-03-29   5.627  1.0402   1.524  0.8852\n",
       "\n",
       "[2588 rows x 4 columns]"
      ]
     },
     "execution_count": 22,
     "metadata": {},
     "output_type": "execute_result"
    }
   ],
   "source": [
    "price_df"
   ]
  },
  {
   "cell_type": "code",
   "execution_count": 24,
   "id": "74780a70",
   "metadata": {},
   "outputs": [
    {
     "data": {
      "text/plain": [
       "Index(['2013-08-02', '2013-08-09', '2013-08-16', '2013-08-23', '2013-08-26',\n",
       "       '2013-08-27', '2013-08-28', '2013-08-29', '2013-08-30', '2013-09-02',\n",
       "       ...\n",
       "       '2024-03-18', '2024-03-19', '2024-03-20', '2024-03-21', '2024-03-22',\n",
       "       '2024-03-25', '2024-03-26', '2024-03-27', '2024-03-28', '2024-03-29'],\n",
       "      dtype='object', name='净值日期', length=2588)"
      ]
     },
     "execution_count": 24,
     "metadata": {},
     "output_type": "execute_result"
    }
   ],
   "source": [
    "price_df.index"
   ]
  }
 ],
 "metadata": {
  "kernelspec": {
   "display_name": "My-riskfolio",
   "language": "python",
   "name": "riskfolio"
  },
  "language_info": {
   "codemirror_mode": {
    "name": "ipython",
    "version": 3
   },
   "file_extension": ".py",
   "mimetype": "text/x-python",
   "name": "python",
   "nbconvert_exporter": "python",
   "pygments_lexer": "ipython3",
   "version": "3.8.19"
  }
 },
 "nbformat": 4,
 "nbformat_minor": 5
}
